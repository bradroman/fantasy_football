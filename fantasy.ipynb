{
 "cells": [
  {
   "cell_type": "markdown",
   "metadata": {},
   "source": [
    "# Yahoo Fantasy Football Data Pulls"
   ]
  },
  {
   "cell_type": "markdown",
   "metadata": {},
   "source": [
    "### Set up"
   ]
  },
  {
   "cell_type": "code",
   "execution_count": null,
   "metadata": {},
   "outputs": [],
   "source": [
    "import pandas as pd\n",
    "import numpy as np\n",
    "import logging\n",
    "import os\n",
    "import pprint\n",
    "import warnings\n",
    "import json\n",
    "import csv\n",
    "from datetime import datetime\n",
    "\n",
    "import pytest\n",
    "from dotenv import load_dotenv\n",
    "\n",
    "from yfpy import Data\n",
    "from yfpy.models import Game, StatCategories, User, Scoreboard, Settings, Standings, League, Player, Team, \\\n",
    "    TeamPoints, TeamStandings, Roster\n",
    "from yfpy.query import YahooFantasySportsQuery"
   ]
  },
  {
   "cell_type": "code",
   "execution_count": null,
   "metadata": {},
   "outputs": [],
   "source": [
    "# Settings from yfpy package\n",
    "logging.getLogger(\"yfpy.query\").setLevel(level=logging.INFO)\n",
    "warnings.simplefilter(\"ignore\", ResourceWarning)\n",
    "env_path = os.path.join(os.path.dirname(os.path.dirname(os.path.abspath('private.json'))), \".env\")\n",
    "load_dotenv(dotenv_path=env_path)\n",
    "print_output = True \n",
    "browser_callback = True\n",
    "auth_dir = \".\"\n",
    "data_dir = os.path.join(os.path.dirname(os.path.abspath('private.json')), \"test_output\")\n",
    "\n",
    "season = '2019'\n",
    "game_code = \"nfl\"\n",
    "if season == '2019':\n",
    "    game_key = \"390\"\n",
    "    league_id = \"1021512\"\n",
    "elif season == '2020':\n",
    "    game_key = \"399\"\n",
    "    league_id = \"234883\"\n",
    "\n",
    "with open(r'C:/Users/bradr/Python/fantasy_football/token.json', 'r') as json_file:\n",
    "    private = json.load(json_file)\n",
    "\n",
    "# Instantiate yfpy objects\n",
    "yahoo_data = Data(data_dir)\n",
    "yahoo_query = YahooFantasySportsQuery(\n",
    "    auth_dir,\n",
    "    league_id,\n",
    "    game_id=game_key,\n",
    "    game_code=game_code,\n",
    "    offline=False,\n",
    "    all_output_as_json=False,\n",
    "    consumer_key=private['consumer_key'],\n",
    "    consumer_secret=private['consumer_secret'],\n",
    "    browser_callback=browser_callback\n",
    ")"
   ]
  },
  {
   "cell_type": "markdown",
   "metadata": {},
   "source": [
    "Keys for other seasons"
   ]
  },
  {
   "cell_type": "code",
   "execution_count": null,
   "metadata": {},
   "outputs": [],
   "source": [
    "# For other season lookups\n",
    "# yahoo_query.get_all_yahoo_fantasy_game_keys()"
   ]
  },
  {
   "cell_type": "markdown",
   "metadata": {},
   "source": [
    "# Draft"
   ]
  },
  {
   "cell_type": "markdown",
   "metadata": {},
   "source": [
    "### Picks"
   ]
  },
  {
   "cell_type": "code",
   "execution_count": null,
   "metadata": {},
   "outputs": [],
   "source": [
    "draft_data = yahoo_query.get_league_draft_results()\n",
    "draft_picks = []\n",
    "for pick in range(0, len(draft_data)):\n",
    "    draft_picks.append((draft_data[pick]['draft_result'].pick,\n",
    "                        draft_data[pick]['draft_result'].round,\n",
    "                        draft_data[pick]['draft_result'].team_key[-1:],\n",
    "                        draft_data[pick]['draft_result'].player_key.split(\".\")[2]))\n",
    "draft_picks_df = pd.DataFrame(draft_picks, columns = ['pick','round','team_key','player_key'])\n",
    "draft_picks_df.to_csv(f'output/{season}_draft_picks.csv', index = False)\n",
    "# draft_picks_df"
   ]
  },
  {
   "cell_type": "markdown",
   "metadata": {},
   "source": [
    "### Player Info"
   ]
  },
  {
   "cell_type": "code",
   "execution_count": null,
   "metadata": {},
   "outputs": [],
   "source": [
    "draft_player_list = draft_picks_df['player_key'].tolist()\n",
    "player_info = []\n",
    "for player in draft_player_list:\n",
    "    player_draft = yahoo_query.get_player_draft_analysis(player_key = f'{game_key}.p.' + player)\n",
    "    player_info.append((player_draft.player_key.split(\".\")[2],\n",
    "                        player_draft.name.full,\n",
    "                        player_draft.display_position,\n",
    "                        player_draft.draft_analysis.average_pick,\n",
    "                        player_draft.draft_analysis.average_round,\n",
    "                        player_draft.draft_analysis.average_cost,\n",
    "                        player_draft.draft_analysis.percent_drafted,\n",
    "                        player_draft.bye_weeks.week,\n",
    "                        player_draft.headshot.url))\n",
    "player_info_df = pd.DataFrame(player_info, columns = ['player_key',\n",
    "                                                      'name',\n",
    "                                                      'position',\n",
    "                                                      'average_pick',\n",
    "                                                      'average_round',\n",
    "                                                      'averago_cost',\n",
    "                                                      'percent_drafted',\n",
    "                                                      'bye_weaaek',\n",
    "                                                      'image'])\n",
    "player_info_df.to_csv(f'output/{season}_player_draft_info.csv', index = False)\n",
    "# player_info_df"
   ]
  },
  {
   "cell_type": "markdown",
   "metadata": {
    "jupyter": {
     "outputs_hidden": true
    }
   },
   "source": [
    "# Team"
   ]
  },
  {
   "cell_type": "code",
   "execution_count": null,
   "metadata": {},
   "outputs": [],
   "source": [
    "standings_data = yahoo_query.get_league_standings()\n",
    "\t\n",
    "# Convert Standings Object to json\n",
    "parsed_json = (json.loads(str(standings_data)))\n",
    "\n",
    "# Initialize a list that can store the data\n",
    "team_list = []\n",
    "# Iterate over the Standings json to get teamids and their respective points\n",
    "for team in parsed_json['teams']:\n",
    "    team_list.append((int(team['team']['team_id']),\n",
    "                      team['team']['name'],\n",
    "                      team['team']['team_key'],\n",
    "                      team['team']['draft_grade'],\n",
    "                      team['team']['team_logos']['team_logo']['url']))\n",
    "\n",
    "# Sort the team list by the team id\n",
    "team_list = sorted(team_list)\n",
    "teams = pd.DataFrame(team_list, columns = ['team_id','team_name','team_key','draft_grade','team_logo'])\n",
    "teams.to_csv(f'output/{season}_teams.csv', index = False)\n",
    "# teams"
   ]
  },
  {
   "cell_type": "markdown",
   "metadata": {},
   "source": [
    "# Rosters"
   ]
  },
  {
   "cell_type": "markdown",
   "metadata": {},
   "source": [
    "### Team rosters by Week\n",
    "This gets the rosters for each team for each week of the season and puts them into a dataframe"
   ]
  },
  {
   "cell_type": "markdown",
   "metadata": {},
   "source": [
    "Potentially add the stats as columns?"
   ]
  },
  {
   "cell_type": "code",
   "execution_count": null,
   "metadata": {},
   "outputs": [],
   "source": [
    "roster_list = []\n",
    "for week in range(1,17):\n",
    "    for league_team in range(1,11): \n",
    "        roster_week = yahoo_query.get_team_roster_player_info_by_week(team_id = league_team, chosen_week = week)\n",
    "        for player in range(0,len(roster_week)):\n",
    "            roster_list.append((league_team,\n",
    "                                week,\n",
    "                                roster_week[player]['player'].display_position, \n",
    "                                roster_week[player]['player'].selected_position.position,\n",
    "                                roster_week[player]['player'].full_name,\n",
    "                                roster_week[player]['player'].player_key,\n",
    "                                roster_week[player]['player'].player_points_value,\n",
    "                                roster_week[player]['player'].headshot_url))\n",
    "    \n",
    "roster_week_df = pd.DataFrame(roster_list, columns = ['team_id',\n",
    "                                                      'week',\n",
    "                                                      'position',\n",
    "                                                      'lineup_position',\n",
    "                                                      'full_name',\n",
    "                                                      'player_key',\n",
    "                                                      'fantasy_points',\n",
    "                                                      'player_pic'])\n",
    "roster_week_df.to_csv(f'output/{season}_roster_week.csv', index = False)\n",
    "# roster_week_df"
   ]
  },
  {
   "cell_type": "markdown",
   "metadata": {},
   "source": [
    "# Points"
   ]
  },
  {
   "cell_type": "markdown",
   "metadata": {},
   "source": [
    "### Player Points By Week"
   ]
  },
  {
   "cell_type": "markdown",
   "metadata": {},
   "source": [
    "Done with nflscrapR in R so that I can get it for free agents and non draft picks"
   ]
  },
  {
   "cell_type": "markdown",
   "metadata": {},
   "source": [
    "### Weekly Matchup Scores"
   ]
  },
  {
   "cell_type": "code",
   "execution_count": null,
   "metadata": {},
   "outputs": [],
   "source": [
    "weekly = []\n",
    "for week in range(1,17):\n",
    "    scoreboard = yahoo_query.get_league_scoreboard_by_week(chosen_week = week)\n",
    "    for game in range(0,len(scoreboard.matchups)):\n",
    "        weekly.append((week,\n",
    "                       scoreboard.matchups[game]['matchup'].teams[0]['team'].team_id,\n",
    "                       scoreboard.matchups[game]['matchup'].teams[0]['team'].name.decode('utf-8'),\n",
    "                       scoreboard.matchups[game]['matchup'].teams[0]['team'].team_projected_points.total,\n",
    "                       scoreboard.matchups[game]['matchup'].teams[0]['team'].team_points.total,\n",
    "                       scoreboard.matchups[game]['matchup'].matchup_grades[0]['matchup_grade'].grade,\n",
    "                       scoreboard.matchups[game]['matchup'].teams[1]['team'].team_id,\n",
    "                       scoreboard.matchups[game]['matchup'].teams[1]['team'].name.decode('utf-8'),\n",
    "                       scoreboard.matchups[game]['matchup'].teams[1]['team'].team_projected_points.total,\n",
    "                       scoreboard.matchups[game]['matchup'].teams[1]['team'].team_points.total,\n",
    "                       scoreboard.matchups[game]['matchup'].matchup_grades[1]['matchup_grade'].grade,\n",
    "                       scoreboard.matchups[game]['matchup'].week_start,\n",
    "                       scoreboard.matchups[game]['matchup'].week_end,\n",
    "                       scoreboard.matchups[game]['matchup'].winner_team_key[-1:],\n",
    "                       scoreboard.matchups[game]['matchup'].is_playoffs,\n",
    "                       scoreboard.matchups[game]['matchup'].is_consolation,\n",
    "                       scoreboard.matchups[game]['matchup'].is_tied))\n",
    "    \n",
    "scoreboard_df = pd.DataFrame(weekly, columns = ['week',\n",
    "                                                'team_id_1',\n",
    "                                                'team_name_1',\n",
    "                                                'projected_points_1',\n",
    "                                                'total_points_1',\n",
    "                                                'matchup_grade_1',\n",
    "                                                'team_id_2',\n",
    "                                                'team_name_2',\n",
    "                                                'projected_points_2',\n",
    "                                                'total_points_2',\n",
    "                                                'matchup_grade_2',\n",
    "                                                'week_start',\n",
    "                                                'week_end',\n",
    "                                                'winner_key',\n",
    "                                                'is_playoffs',\n",
    "                                                'is_consolation',\n",
    "                                                'is_tied'])\n",
    "\n",
    "scoreboard_df.to_csv(f'output/{season}_weekly_scoreboard.csv', index = False)\n",
    "#scoreboard_df"
   ]
  },
  {
   "cell_type": "markdown",
   "metadata": {},
   "source": [
    "# Transactions"
   ]
  },
  {
   "cell_type": "markdown",
   "metadata": {},
   "source": [
    "### By Team"
   ]
  },
  {
   "cell_type": "code",
   "execution_count": null,
   "metadata": {},
   "outputs": [],
   "source": [
    "transactions_list = []\n",
    "transactions = yahoo_query.get_league_transactions()\n",
    "\n",
    "num_player_list = []\n",
    "for move in range(0,len(transactions)):\n",
    "    num_player_list.append(len(transactions[move]['transaction'].players))\n",
    "max_num_player = max(num_player_list)\n",
    "\n",
    "transaction_comp_cols = ['transaction_id',\n",
    "                         'timestamp',\n",
    "                         'type',\n",
    "                         'status']\n",
    "\n",
    "na_values = ('na','na','na','na')\n",
    "\n",
    "for move in range(0,len(transactions)):\n",
    "    transaction_components = (transactions[move]['transaction'].transaction_id,\n",
    "                          datetime.utcfromtimestamp(int(transactions[move]['transaction'].timestamp)).strftime('%Y-%m-%d %H:%M:%S'),\n",
    "                          transactions[move]['transaction'].type,\n",
    "                          transactions[move]['transaction'].status)\n",
    "    if len(transactions[move]['transaction'].players) == 1:\n",
    "        transactions_list.append(transaction_components+(\n",
    "                                  transactions[move]['transaction'].players['player'].transaction_data.source_type,\n",
    "                                  transactions[move]['transaction'].players['player'].transaction_data.destination_team_key,\n",
    "                                  transactions[move]['transaction'].players['player'].transaction_data.destination_team_name,\n",
    "                                  transactions[move]['transaction'].players['player'].player_id,\n",
    "                                  transactions[move]['transaction'].players['player'].name.full\n",
    "                                  )) \n",
    "\n",
    "    for num in range(2,max_num_player+1):\n",
    "        \n",
    "        if len(transactions[move]['transaction'].players) == num:\n",
    "            player_cols = ()\n",
    "            player_col_names = []\n",
    "            for i in range(0,len(transactions[move]['transaction'].players)):\n",
    "                player_values = (transactions[move]['transaction'].players[i]['player'].transaction_data.source_type,\n",
    "                                 transactions[move]['transaction'].players[i]['player'].transaction_data.destination_team_key,\n",
    "                                 transactions[move]['transaction'].players[i]['player'].transaction_data.destination_team_name,\n",
    "                                 transactions[move]['transaction'].players[i]['player'].player_id,\n",
    "                                 transactions[move]['transaction'].players[i]['player'].name.full)\n",
    "                player_cols = player_cols + player_values\n",
    "                j = i + 1\n",
    "                player_col_names = player_col_names + [f'source_type_{j}',\n",
    "                                                       f'destination_team_key_{j}',\n",
    "                                                       f'destination_team_name_{j}',\n",
    "                                                       f'player_id_{j}',\n",
    "                                                       f'player_name_{j}']\n",
    "                \n",
    "                if num == max_num_player:\n",
    "                    final_player_col_names = player_col_names\n",
    "\n",
    "            transactions_list.append(transaction_components+player_cols)  \n",
    "        \n",
    "\n",
    "transactions_df = pd.DataFrame(transactions_list, columns = transaction_comp_cols+list(final_player_col_names))\n",
    "transactions_df.to_csv(f'output/{season}_transactions.csv', index = False)\n",
    "# transactions_df"
   ]
  },
  {
   "cell_type": "markdown",
   "metadata": {},
   "source": [
    "### By Player"
   ]
  },
  {
   "cell_type": "code",
   "execution_count": null,
   "metadata": {},
   "outputs": [],
   "source": []
  },
  {
   "cell_type": "code",
   "execution_count": null,
   "metadata": {},
   "outputs": [],
   "source": []
  }
 ],
 "metadata": {
  "kernelspec": {
   "display_name": "Python 3",
   "language": "python",
   "name": "python3"
  },
  "language_info": {
   "codemirror_mode": {
    "name": "ipython",
    "version": 3
   },
   "file_extension": ".py",
   "mimetype": "text/x-python",
   "name": "python",
   "nbconvert_exporter": "python",
   "pygments_lexer": "ipython3",
   "version": "3.8.5"
  }
 },
 "nbformat": 4,
 "nbformat_minor": 4
}
