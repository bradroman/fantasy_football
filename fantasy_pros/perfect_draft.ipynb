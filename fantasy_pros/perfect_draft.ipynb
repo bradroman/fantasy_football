{
 "cells": [
  {
   "cell_type": "markdown",
   "metadata": {},
   "source": [
    "# Fantasy Pros Perfect Draft Analysis\n",
    "### 01/21/22\n",
    "#### Purpose: There is a challenge to use the 2021 preseason ADPs and "
   ]
  },
  {
   "cell_type": "markdown",
   "metadata": {},
   "source": [
    "#### Import Libraries"
   ]
  },
  {
   "cell_type": "code",
   "execution_count": 1,
   "metadata": {},
   "outputs": [],
   "source": [
    "import pandas as pd\n",
    "from typing import Optional"
   ]
  },
  {
   "cell_type": "markdown",
   "metadata": {},
   "source": [
    "#### Read in data and clean a little"
   ]
  },
  {
   "cell_type": "code",
   "execution_count": 2,
   "metadata": {},
   "outputs": [],
   "source": [
    "df = pd.read_csv('../yahoo/output/2021_player_week_points.csv').drop_duplicates()\n",
    "df['week'] = df['game_id'].str[5:7]"
   ]
  },
  {
   "cell_type": "code",
   "execution_count": 9,
   "metadata": {},
   "outputs": [],
   "source": [
    "adp_rankings = pd.read_csv('input/FantasyPros_2021_Overall_ADP_Rankings.csv')"
   ]
  },
  {
   "cell_type": "markdown",
   "metadata": {},
   "source": [
    "#### Create functions"
   ]
  },
  {
   "cell_type": "code",
   "execution_count": 3,
   "metadata": {},
   "outputs": [],
   "source": [
    "def add_player_bye_week(df:pd.DataFrame) -> pd.DataFrame:\n",
    "    \"\"\"\n",
    "    Objective:\n",
    "    ----------\n",
    "    Takes a players weeks and points and adds a bye week with zero points\n",
    "    Also works for games they may have missed due to injury\n",
    "    \n",
    "    Parameters:\n",
    "    -----------\n",
    "    df: pd.DataFrame\n",
    "        Pandas dataframe with columns at least of 'week' and 'fantasy_points'\n",
    "    \n",
    "    Returns:\n",
    "    --------\n",
    "    final_df: pd.DataFrame\n",
    "        Pandas dataframe that fills in missing week with a score of 0\n",
    "    \"\"\"\n",
    "    zero_df = pd.DataFrame({'week': ['01','02','03','04','05','06','07','08','09','10','11','12','13','14','15','16','17'], \n",
    "                            'bye_points': [0,0,0,0,0,0,0,0,0,0,0,0,0,0,0,0,0]})\n",
    "    \n",
    "    new_df = pd.merge(df, zero_df, how='outer', on=['week'])\n",
    "    \n",
    "    new_df['fantasy_points'] = new_df[['fantasy_points', \"bye_points\"]].max(axis=1)\n",
    "    \n",
    "    final_df = new_df[['week','fantasy_points']].sort_values('week')\n",
    "    \n",
    "    return final_df"
   ]
  },
  {
   "cell_type": "code",
   "execution_count": 4,
   "metadata": {},
   "outputs": [],
   "source": [
    "def get_player_points_list(df:pd.DataFrame,\n",
    "                           player:str,\n",
    "                           position:str) -> list:\n",
    "    \"\"\"\n",
    "    Objective:\n",
    "    ----------\n",
    "    Take a dataframe, filters to a selected player, adds the bye week, and returns a sorted list of points\n",
    "    \n",
    "    Parameters:\n",
    "    -----------\n",
    "    df: pd.DataFrame\n",
    "        Pandas dataframe with columns at least of 'player', 'week', and 'fantasy_points'\n",
    "    \n",
    "    Returns:\n",
    "    --------\n",
    "    player_points_list: list\n",
    "        A sorted list of player fantasy points for each week of the season\n",
    "    \n",
    "    \"\"\"\n",
    "    player_points = df[(df.player == player) & (df.position == position)][['week','fantasy_points']]\n",
    "    player_points_list = add_player_bye_week(player_points)['fantasy_points'].tolist()\n",
    "    \n",
    "    return player_points_list"
   ]
  },
  {
   "cell_type": "code",
   "execution_count": 5,
   "metadata": {},
   "outputs": [],
   "source": [
    "def find_complimentary_player(df:pd.DataFrame, \n",
    "                              position:str,\n",
    "                              comp_player:str,\n",
    "                              comp_list:Optional[list] = []\n",
    "                             ) -> str:\n",
    "    \"\"\"\n",
    "    Objective:\n",
    "    ----------\n",
    "    Find the best complimentory player to a suggested player in the draft. Sorts through all players at the position or a selected list.\n",
    "    \n",
    "    Parameters:\n",
    "    -----------\n",
    "    df: pd.DataFrame\n",
    "        Pandas datafame that has at a minimum: player name, week, fantasy points\n",
    "    position: str\n",
    "        Position of the player of interest which will determine the players to compare against\n",
    "    comp_player: str\n",
    "        The selected player that other players will be compared against\n",
    "    comp_list: Optional[list]\n",
    "        An optional list of players that are under consideration for comparison. \n",
    "        If optimal option is not available, this is a good work around but there is no error checking on names being correct\n",
    "    \n",
    "    Returns:\n",
    "    --------\n",
    "    final_output: str\n",
    "        Printed results of the best player to select to compliment the chosen player\n",
    "    \n",
    "    \"\"\"\n",
    "    # sorting the values so the weeks are in order and filtering out week 18 that's not included\n",
    "    df = df[df.week <= '17']\n",
    "    \n",
    "    # need to impute a 0 for the selected player bye week\n",
    "    selected_player_points_list = get_player_points_list(df, comp_player, position)\n",
    "    \n",
    "    # error checking on selected player\n",
    "    if len(df[df.player == comp_player]) == 0:\n",
    "        raise ValueError('Player name not found in data')\n",
    "    \n",
    "    comp_player_data = df[df.position == position]\n",
    "    # error checking on input position\n",
    "    if len(comp_player_data) == 0:\n",
    "        raise ValueError('Position not found in data')\n",
    "    \n",
    "    total_points = 0\n",
    "    max_points = 0\n",
    "    if len(comp_list) > 0:\n",
    "        print('Comparison list given')\n",
    "        comp_player_list = comp_list\n",
    "        \n",
    "    else:\n",
    "        print('Comparison list not given')\n",
    "        comp_player_list = comp_player_data[['player']].drop_duplicates()['player'].tolist()\n",
    "    \n",
    "    # loop through all players or selected list\n",
    "    for player in comp_player_list:\n",
    "        comp_player_points_list = get_player_points_list(df, player, position)\n",
    "        \n",
    "        #go week by week and take the maximum value between two players and sum\n",
    "        for selected_points, comp_points in zip(selected_player_points_list, comp_player_points_list):\n",
    "            max_val = max(selected_points, comp_points)\n",
    "            total_points = total_points + max_val\n",
    "        \n",
    "        # if the comparison points are the highest, make it the max value, otherwise continue searching and reset the mark\n",
    "        if total_points > max_points:\n",
    "            max_points = total_points\n",
    "            max_compliment_player = player\n",
    "        total_points = 0\n",
    "    \n",
    "    return print('\\nThe best compliment to ', comp_player, ' is: ', max_compliment_player, '\\nTheir total points are: ', max_points, sep = '')\n",
    "    "
   ]
  },
  {
   "cell_type": "markdown",
   "metadata": {},
   "source": [
    "#### Examples"
   ]
  },
  {
   "cell_type": "code",
   "execution_count": 6,
   "metadata": {},
   "outputs": [
    {
     "name": "stdout",
     "output_type": "stream",
     "text": [
      "Comparison list not given\n",
      "\n",
      "The best compliment to T.Kelce is: M.Andrews\n",
      "Their total points are: 291.7\n"
     ]
    }
   ],
   "source": [
    "find_complimentary_player(df, 'TE', 'T.Kelce')"
   ]
  },
  {
   "cell_type": "code",
   "execution_count": 7,
   "metadata": {},
   "outputs": [
    {
     "name": "stdout",
     "output_type": "stream",
     "text": [
      "Comparison list given\n",
      "\n",
      "The best compliment to T.Kelce is: D.Knox\n",
      "Their total points are: 260.8\n"
     ]
    }
   ],
   "source": [
    "find_complimentary_player(df, 'TE', 'T.Kelce', comp_list = ['D.Knox','Z.Ertz'])"
   ]
  }
 ],
 "metadata": {
  "kernelspec": {
   "display_name": "Python 3",
   "language": "python",
   "name": "python3"
  },
  "language_info": {
   "codemirror_mode": {
    "name": "ipython",
    "version": 3
   },
   "file_extension": ".py",
   "mimetype": "text/x-python",
   "name": "python",
   "nbconvert_exporter": "python",
   "pygments_lexer": "ipython3",
   "version": "3.8.5"
  }
 },
 "nbformat": 4,
 "nbformat_minor": 4
}
