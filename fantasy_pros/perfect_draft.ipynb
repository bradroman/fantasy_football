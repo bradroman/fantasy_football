{
 "cells": [
  {
   "cell_type": "markdown",
   "metadata": {},
   "source": [
    "# Fantasy Pros Perfect Draft Analysis\n",
    "## 01/21/22\n",
    "### Purpose: There is a challenge to use the 2021 preseason ADPs and 2021 results to do a hindsight \"Perfect Draft\". This analysis looks to use data to find complimentary players to those selected early in the draft to maximize possible points."
   ]
  },
  {
   "cell_type": "markdown",
   "metadata": {},
   "source": [
    "### Import Libraries"
   ]
  },
  {
   "cell_type": "code",
   "execution_count": null,
   "metadata": {},
   "outputs": [],
   "source": [
    "import pandas as pd\n",
    "from typing import Optional\n",
    "pd.set_option('display.max_rows', 500)\n",
    "\n",
    "season = 2021"
   ]
  },
  {
   "cell_type": "markdown",
   "metadata": {},
   "source": [
    "### Read in data and clean a little"
   ]
  },
  {
   "cell_type": "code",
   "execution_count": null,
   "metadata": {},
   "outputs": [],
   "source": [
    "for week in range(1,18):\n",
    "    df = pd.read_csv(f'input/fp_{season}_{week}.csv')\n",
    "    df.columns = df.columns.str.lower()\n",
    "    df['week'] = week\n",
    "    df['fantasy_points'] = df['points']\n",
    "    if week == 1:\n",
    "        combined_df = df\n",
    "    else:\n",
    "        combined_df = pd.merge(combined_df, df, how = 'outer')\n",
    "combined_df.to_csv(f'input/fp_{season}_weekly.csv', index = False)"
   ]
  },
  {
   "cell_type": "code",
   "execution_count": null,
   "metadata": {},
   "outputs": [],
   "source": [
    "player_week = pd.read_csv(f'input/fp_{season}_weekly.csv')"
   ]
  },
  {
   "cell_type": "markdown",
   "metadata": {},
   "source": [
    "### Add ADP"
   ]
  },
  {
   "cell_type": "code",
   "execution_count": null,
   "metadata": {},
   "outputs": [],
   "source": [
    "adp_rankings = pd.read_csv('input/FantasyPros_2021_Overall_ADP_Rankings.csv')\n",
    "adp_rankings.columns = adp_rankings.columns.str.lower()\n",
    "adp_rankings = adp_rankings[['player','rank']]\n",
    "adp_rankings = adp_rankings.rename(columns = {'rank':'adp'})"
   ]
  },
  {
   "cell_type": "code",
   "execution_count": null,
   "metadata": {},
   "outputs": [],
   "source": [
    "df = pd.merge(player_week, adp_rankings, on = ['player'], how = 'left')"
   ]
  },
  {
   "cell_type": "code",
   "execution_count": null,
   "metadata": {},
   "outputs": [],
   "source": [
    "# df.dtypes"
   ]
  },
  {
   "cell_type": "code",
   "execution_count": null,
   "metadata": {},
   "outputs": [],
   "source": [
    "# df"
   ]
  },
  {
   "cell_type": "markdown",
   "metadata": {},
   "source": [
    "#### Create functions"
   ]
  },
  {
   "cell_type": "code",
   "execution_count": null,
   "metadata": {},
   "outputs": [],
   "source": [
    "def add_player_bye_week(df:pd.DataFrame) -> pd.DataFrame:\n",
    "    \"\"\"\n",
    "    Objective:\n",
    "    ----------\n",
    "    Takes a players weeks and points and adds a bye week with zero points\n",
    "    Also works for games they may have missed due to injury\n",
    "    \n",
    "    Parameters:\n",
    "    -----------\n",
    "    df: pd.DataFrame\n",
    "        Pandas dataframe with columns at least of 'week' and 'fantasy_points'\n",
    "    \n",
    "    Returns:\n",
    "    --------\n",
    "    final_df: pd.DataFrame\n",
    "        Pandas dataframe that fills in missing week with a score of 0\n",
    "    \"\"\"\n",
    "    zero_df = pd.DataFrame({'week': [1,2,3,4,5,6,7,8,9,10,11,12,13,14,15,16,17], \n",
    "                            'bye_points': [0,0,0,0,0,0,0,0,0,0,0,0,0,0,0,0,0]})\n",
    "    \n",
    "    new_df = pd.merge(df, zero_df, how='outer', on=['week'])\n",
    "    \n",
    "    new_df['fantasy_points'] = new_df[['fantasy_points', \"bye_points\"]].max(axis=1)\n",
    "    \n",
    "    final_df = new_df[['week','fantasy_points']].sort_values('week')\n",
    "    \n",
    "    return final_df"
   ]
  },
  {
   "cell_type": "code",
   "execution_count": null,
   "metadata": {},
   "outputs": [],
   "source": [
    "def get_player_points_list(df:pd.DataFrame,\n",
    "                           player:str,\n",
    "                           position:str) -> list:\n",
    "    \"\"\"\n",
    "    Objective:\n",
    "    ----------\n",
    "    Take a dataframe, filters to a selected player, adds the bye week, and returns a sorted list of points\n",
    "    \n",
    "    Parameters:\n",
    "    -----------\n",
    "    df: pd.DataFrame\n",
    "        Pandas dataframe with columns at least of 'player', 'week', and 'fantasy_points'\n",
    "    \n",
    "    Returns:\n",
    "    --------\n",
    "    player_points_list: list\n",
    "        A sorted list of player fantasy points for each week of the season\n",
    "    \n",
    "    \"\"\"\n",
    "    player_points = df[(df.player == player) & (df.position == position)][['week','fantasy_points']]\n",
    "    player_points_list = add_player_bye_week(player_points)['fantasy_points'].tolist()\n",
    "    \n",
    "    return player_points_list"
   ]
  },
  {
   "cell_type": "code",
   "execution_count": null,
   "metadata": {},
   "outputs": [],
   "source": [
    "def find_complimentary_player(df:pd.DataFrame, \n",
    "                              position:str,\n",
    "                              comp_player:[list],\n",
    "                              comp_list:Optional[list] = [],\n",
    "                              after_adp:Optional[int] = 0,\n",
    "                             ) -> str:\n",
    "    \"\"\"\n",
    "    Objective:\n",
    "    ----------\n",
    "    Find the best complimentory player to a suggested player in the draft. Sorts through all players at the position or a selected list.\n",
    "    \n",
    "    Parameters:\n",
    "    -----------\n",
    "    df: pd.DataFrame\n",
    "        Pandas datafame that has at a minimum: player name, week, fantasy points\n",
    "    position: str\n",
    "        Position of the player of interest which will determine the players to compare against\n",
    "    comp_player: str\n",
    "        The selected player that other players will be compared against\n",
    "    comp_list: Optional[list]\n",
    "        An optional list of players that are under consideration for comparison. \n",
    "        If optimal option is not available, this is a good work around but there is no error checking on names being correct\n",
    "    \n",
    "    Returns:\n",
    "    --------\n",
    "    final_output: str\n",
    "        Printed results of the best player to select to compliment the chosen player\n",
    "    \n",
    "    \"\"\"\n",
    "    # sorting the values so the weeks are in order and filtering out week 18 that's not included\n",
    "    df = df[df.week <= 17]\n",
    "    \n",
    "    if after_adp > 0:\n",
    "        df = df[df.adp > after_adp]\n",
    "    \n",
    "    # need to impute a 0 for the selected player bye week\n",
    "    if len(comp_player) > 1:\n",
    "        i = 0\n",
    "        for player in comp_player:\n",
    "            player_list = get_player_points_list(df, comp_player[i], position)\n",
    "            if i == 0:\n",
    "                selected_player_points_list = player_list\n",
    "            else:\n",
    "                new_list = []\n",
    "                for week_points_1, week_points_2 in zip(selected_player_points_list, player_list):\n",
    "                    new_list.append(week_points_1 + week_points_2)\n",
    "                selected_player_points_list = new_list\n",
    "            i = i + 1\n",
    "    else:\n",
    "        selected_player_points_list = get_player_points_list(df, comp_player[0], position)\n",
    "    \n",
    "    # error checking on selected player\n",
    "#     if len(df[df.player == comp_player[0]]) == 0:\n",
    "#         raise ValueError('Player name not found in data')\n",
    "    \n",
    "    comp_player_data = df[df.position == position]\n",
    "    # error checking on input position\n",
    "    if len(comp_player_data) == 0:\n",
    "        raise ValueError('Position not found in data')\n",
    "    \n",
    "    total_points = 0\n",
    "    max_points = 0\n",
    "    if len(comp_list) > 0:\n",
    "        print('Comparison list given')\n",
    "        comp_player_list = comp_list\n",
    "        \n",
    "    else:\n",
    "        print('Comparison list not given')\n",
    "        comp_player_list = comp_player_data[['player']].drop_duplicates()['player'].tolist()\n",
    "    \n",
    "    # loop through all players or selected list\n",
    "    for player in comp_player_list:\n",
    "        comp_player_points_list = get_player_points_list(df, player, position)\n",
    "        \n",
    "        #go week by week and take the maximum value between two players and sum\n",
    "        for selected_points, comp_points in zip(selected_player_points_list, comp_player_points_list):\n",
    "            max_val = max(selected_points, comp_points)\n",
    "            total_points = total_points + max_val\n",
    "        \n",
    "        # if the comparison points are the highest, make it the max value, otherwise continue searching and reset the mark\n",
    "        if total_points > max_points:\n",
    "            max_points = total_points\n",
    "            max_compliment_player = player\n",
    "        total_points = 0\n",
    "    \n",
    "    return print('\\nThe best compliment to ', comp_player, ' is: ', max_compliment_player, '\\nTheir total points are: ', max_points, sep = '')\n",
    "    "
   ]
  },
  {
   "cell_type": "code",
   "execution_count": null,
   "metadata": {},
   "outputs": [],
   "source": [
    "def calculate_optimal_lineup_points(players:list) -> str:\n",
    "    \"\"\"\n",
    "    \"\"\"\n",
    "    "
   ]
  },
  {
   "cell_type": "markdown",
   "metadata": {},
   "source": [
    "#### Examples"
   ]
  },
  {
   "cell_type": "code",
   "execution_count": null,
   "metadata": {},
   "outputs": [],
   "source": [
    "get_player_points_list(df, 'Mark Andrews', 'TE')"
   ]
  },
  {
   "cell_type": "code",
   "execution_count": null,
   "metadata": {},
   "outputs": [],
   "source": [
    "find_complimentary_player(df, 'TE', ['Mark Andrews','Dalton Schultz'])"
   ]
  }
 ],
 "metadata": {
  "kernelspec": {
   "display_name": "Python 3",
   "language": "python",
   "name": "python3"
  },
  "language_info": {
   "codemirror_mode": {
    "name": "ipython",
    "version": 3
   },
   "file_extension": ".py",
   "mimetype": "text/x-python",
   "name": "python",
   "nbconvert_exporter": "python",
   "pygments_lexer": "ipython3",
   "version": "3.8.5"
  }
 },
 "nbformat": 4,
 "nbformat_minor": 4
}
